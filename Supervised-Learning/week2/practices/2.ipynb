{
 "cells": [
  {
   "cell_type": "markdown",
   "metadata": {},
   "source": [
    "# Sklearn"
   ]
  },
  {
   "cell_type": "markdown",
   "metadata": {},
   "source": [
    "## sklearn.cross_validation"
   ]
  },
  {
   "cell_type": "markdown",
   "metadata": {},
   "source": [
    "документация: http://scikit-learn.org/stable/modules/cross_validation.html"
   ]
  },
  {
   "cell_type": "code",
   "execution_count": 1,
   "metadata": {},
   "outputs": [],
   "source": [
    "from sklearn import datasets, model_selection\n",
    "import numpy as np"
   ]
  },
  {
   "cell_type": "markdown",
   "metadata": {},
   "source": [
    "### Разовое разбиение данных на обучение и тест с помощью train_test_split"
   ]
  },
  {
   "cell_type": "code",
   "execution_count": 2,
   "metadata": {},
   "outputs": [],
   "source": [
    "iris = datasets.load_iris()"
   ]
  },
  {
   "cell_type": "code",
   "execution_count": 3,
   "metadata": {},
   "outputs": [],
   "source": [
    "train_data, test_data, train_labels, test_labels = model_selection.train_test_split(iris.data, iris.target, test_size=0.3)"
   ]
  },
  {
   "cell_type": "code",
   "execution_count": 4,
   "metadata": {},
   "outputs": [
    {
     "data": {
      "text/plain": [
       "0.3"
      ]
     },
     "execution_count": 4,
     "metadata": {},
     "output_type": "execute_result"
    }
   ],
   "source": [
    "#убедимся, что тестовая выборка действительно составляет 0.3 от всех данных\n",
    "float(len(test_labels))/len(iris.data)"
   ]
  },
  {
   "cell_type": "code",
   "execution_count": 5,
   "metadata": {},
   "outputs": [
    {
     "name": "stdout",
     "output_type": "stream",
     "text": [
      "Размер обучающей выборки: 105 объектов \n",
      "Размер тестовой выборки: 45 объектов\n"
     ]
    }
   ],
   "source": [
    "print('Размер обучающей выборки: {} объектов \\nРазмер тестовой выборки: {} объектов'.format(len(train_data), len(test_data)))"
   ]
  },
  {
   "cell_type": "code",
   "execution_count": 6,
   "metadata": {},
   "outputs": [
    {
     "name": "stdout",
     "output_type": "stream",
     "text": [
      "Обучающая выборка:\n",
      " [[5.  3.4 1.6 0.4]\n",
      " [6.5 3.2 5.1 2. ]\n",
      " [6.  2.9 4.5 1.5]\n",
      " [5.1 3.8 1.6 0.2]\n",
      " [7.7 2.6 6.9 2.3]]\n",
      "Тестовая выборка:\n",
      " [[5.9 3.  4.2 1.5]\n",
      " [4.8 3.  1.4 0.1]\n",
      " [5.8 2.7 5.1 1.9]\n",
      " [5.4 3.9 1.3 0.4]\n",
      " [6.8 3.  5.5 2.1]]\n"
     ]
    }
   ],
   "source": [
    "print('Обучающая выборка:\\n', train_data[:5])\n",
    "print('Тестовая выборка:\\n', test_data[:5])"
   ]
  },
  {
   "cell_type": "code",
   "execution_count": 7,
   "metadata": {},
   "outputs": [
    {
     "name": "stdout",
     "output_type": "stream",
     "text": [
      "Метки классов на обучающей выборке:\n",
      " [0 2 1 0 2 0 1 2 0 1 2 0 0 1 1 0 0 1 2 0 1 1 0 1 0 1 2 0 1 2 0 0 0 2 1 1 0\n",
      " 0 1 2 2 1 2 0 1 2 1 1 0 0 0 1 0 2 0 0 0 1 2 1 0 1 2 1 2 2 2 2 0 2 0 1 2 1\n",
      " 2 2 2 2 2 1 0 2 0 0 0 2 0 2 2 0 1 0 2 1 0 2 2 0 1 2 0 1 0 0 1]\n",
      "Метки классов на тестовой выборке:\n",
      " [1 0 2 0 2 1 2 1 0 2 1 1 2 2 2 1 2 1 0 1 1 1 0 1 1 0 1 1 0 0 1 2 1 0 2 1 2\n",
      " 0 2 1 2 1 2 2 2]\n"
     ]
    }
   ],
   "source": [
    "print('Метки классов на обучающей выборке:\\n', train_labels)\n",
    "print('Метки классов на тестовой выборке:\\n', test_labels)"
   ]
  },
  {
   "cell_type": "markdown",
   "metadata": {},
   "source": [
    "### Стратегии проведения кросс-валидации"
   ]
  },
  {
   "cell_type": "markdown",
   "metadata": {},
   "source": [
    "#### KFold"
   ]
  },
  {
   "cell_type": "code",
   "execution_count": 8,
   "metadata": {},
   "outputs": [
    {
     "name": "stdout",
     "output_type": "stream",
     "text": [
      "[2 3 4 5 6 7 8 9] [0 1]\n",
      "[0 1 4 5 6 7 8 9] [2 3]\n",
      "[0 1 2 3 6 7 8 9] [4 5]\n",
      "[0 1 2 3 4 5 8 9] [6 7]\n",
      "[0 1 2 3 4 5 6 7] [8 9]\n"
     ]
    }
   ],
   "source": [
    "kf = model_selection.KFold(n_splits=5)\n",
    "\n",
    "for train_indices, test_indices in kf.split(np.arange(10)):\n",
    "    print(train_indices, test_indices)"
   ]
  },
  {
   "cell_type": "code",
   "execution_count": 9,
   "metadata": {},
   "outputs": [
    {
     "name": "stdout",
     "output_type": "stream",
     "text": [
      "[5 6 7 8 9] [0 1 2 3 4]\n",
      "[0 1 2 3 4] [5 6 7 8 9]\n"
     ]
    }
   ],
   "source": [
    "kf = model_selection.KFold(n_splits=2)\n",
    "\n",
    "for train_indices, test_indices in kf.split(np.arange(10)):\n",
    "    print(train_indices, test_indices)"
   ]
  },
  {
   "cell_type": "code",
   "execution_count": 10,
   "metadata": {},
   "outputs": [
    {
     "name": "stdout",
     "output_type": "stream",
     "text": [
      "[0 1 2 5 6 7 8 9] [3 4]\n",
      "[0 2 3 4 5 7 8 9] [1 6]\n",
      "[0 1 2 3 4 5 6 8] [7 9]\n",
      "[0 1 3 4 6 7 8 9] [2 5]\n",
      "[1 2 3 4 5 6 7 9] [0 8]\n"
     ]
    }
   ],
   "source": [
    "kf = model_selection.KFold(n_splits=5, shuffle=True)\n",
    "\n",
    "for train_indices, test_indices in kf.split(np.arange(10)):\n",
    "    print(train_indices, test_indices)"
   ]
  },
  {
   "cell_type": "code",
   "execution_count": 11,
   "metadata": {},
   "outputs": [
    {
     "name": "stdout",
     "output_type": "stream",
     "text": [
      "[1 3 5 7 8] [0 2 4 6 9]\n",
      "[0 2 4 6 9] [1 3 5 7 8]\n"
     ]
    }
   ],
   "source": [
    "kf = model_selection.KFold(n_splits=2, shuffle=True, random_state=1)\n",
    "\n",
    "for train_indices, test_indices in kf.split(np.arange(10)):\n",
    "    print(train_indices, test_indices)"
   ]
  },
  {
   "cell_type": "markdown",
   "metadata": {},
   "source": [
    "#### StratifiedKFold"
   ]
  },
  {
   "cell_type": "code",
   "execution_count": 12,
   "metadata": {},
   "outputs": [
    {
     "name": "stdout",
     "output_type": "stream",
     "text": [
      "[0 0 0 0 1 1 1 1]\n",
      "[2 3 6 7] [0 1 4 5]\n",
      "[0 1 4 5] [2 3 6 7]\n"
     ]
    }
   ],
   "source": [
    "target = np.array([0] * 4 + [1] * 4)\n",
    "print(target)\n",
    "skf = model_selection.StratifiedKFold(n_splits=2)\n",
    "for train_indices, test_indices in skf.split(np.arange(8), target):\n",
    "    print(train_indices, test_indices)"
   ]
  },
  {
   "cell_type": "code",
   "execution_count": 13,
   "metadata": {},
   "outputs": [
    {
     "name": "stdout",
     "output_type": "stream",
     "text": [
      "[0 1 0 1 0 1 0 1]\n",
      "[0 2 3 7] [1 4 5 6]\n",
      "[1 4 5 6] [0 2 3 7]\n"
     ]
    }
   ],
   "source": [
    "target = np.array([0, 1] * 4)\n",
    "print(target)\n",
    "skf = model_selection.StratifiedKFold(n_splits=2, shuffle=True, random_state=0)\n",
    "for train_indices, test_indices in skf.split(np.arange(8), target):\n",
    "    print(train_indices, test_indices)"
   ]
  },
  {
   "cell_type": "markdown",
   "metadata": {},
   "source": [
    "#### ShuffleSplit"
   ]
  },
  {
   "cell_type": "code",
   "execution_count": 14,
   "metadata": {},
   "outputs": [
    {
     "name": "stdout",
     "output_type": "stream",
     "text": [
      "[4 9 1 6 7 3 0 5] [2 8]\n",
      "[1 2 9 8 0 6 7 4] [3 5]\n",
      "[8 4 5 1 0 6 9 7] [2 3]\n",
      "[9 2 7 5 8 0 3 4] [6 1]\n",
      "[7 4 1 0 6 8 9 3] [5 2]\n",
      "[9 5 2 6 3 7 4 0] [1 8]\n",
      "[1 7 8 6 5 4 9 0] [3 2]\n",
      "[2 3 5 6 7 1 8 4] [0 9]\n",
      "[9 1 4 5 3 6 0 2] [7 8]\n",
      "[5 0 8 3 7 9 6 4] [1 2]\n"
     ]
    }
   ],
   "source": [
    "ss = model_selection.ShuffleSplit(n_splits=10,  test_size=0.2, random_state=0)\n",
    "for train_indices, test_indices in ss.split(np.arange(10)):\n",
    "    print(train_indices, test_indices)"
   ]
  },
  {
   "cell_type": "markdown",
   "metadata": {},
   "source": [
    "#### StratifiedShuffleSplit"
   ]
  },
  {
   "cell_type": "code",
   "execution_count": 15,
   "metadata": {},
   "outputs": [
    {
     "name": "stdout",
     "output_type": "stream",
     "text": [
      "[0 1 0 1 0 1 0 1]\n",
      "[6 1 5 4 2 3] [7 0]\n",
      "[4 3 6 1 7 2] [5 0]\n",
      "[7 2 5 1 0 4] [6 3]\n",
      "[3 5 4 7 0 6] [2 1]\n",
      "[3 4 2 7 1 0] [5 6]\n",
      "[3 2 4 5 1 6] [0 7]\n",
      "[4 3 0 5 2 1] [6 7]\n",
      "[0 6 4 7 1 3] [5 2]\n",
      "[3 1 7 4 2 6] [0 5]\n",
      "[5 3 6 4 2 7] [1 0]\n"
     ]
    }
   ],
   "source": [
    "target = np.array([0, 1] * 4)\n",
    "print(target)\n",
    "sss = model_selection.StratifiedShuffleSplit(n_splits=10,  test_size=0.2, random_state=0)\n",
    "for train_indices, test_indices in sss.split(np.arange(8), target):\n",
    "    print(train_indices, test_indices)"
   ]
  },
  {
   "cell_type": "markdown",
   "metadata": {},
   "source": [
    "#### Leave-One-Out"
   ]
  },
  {
   "cell_type": "code",
   "execution_count": 16,
   "metadata": {},
   "outputs": [
    {
     "name": "stdout",
     "output_type": "stream",
     "text": [
      "[1 2 3 4 5 6 7] [0]\n",
      "[0 2 3 4 5 6 7] [1]\n",
      "[0 1 3 4 5 6 7] [2]\n",
      "[0 1 2 4 5 6 7] [3]\n",
      "[0 1 2 3 5 6 7] [4]\n",
      "[0 1 2 3 4 6 7] [5]\n",
      "[0 1 2 3 4 5 7] [6]\n",
      "[0 1 2 3 4 5 6] [7]\n"
     ]
    }
   ],
   "source": [
    "loo = model_selection.LeaveOneOut()\n",
    "for train_indices, test_indices in loo.split(np.arange(8)):\n",
    "    print(train_indices, test_indices)"
   ]
  },
  {
   "cell_type": "markdown",
   "metadata": {},
   "source": [
    "Больше стратегий проведения кросс-валидации доступно здесь: http://scikit-learn.org/stable/modules/cross_validation.html#cross-validation-iterators"
   ]
  }
 ],
 "metadata": {
  "hide_input": false,
  "kernelspec": {
   "display_name": "Python 3",
   "language": "python",
   "name": "python3"
  },
  "language_info": {
   "codemirror_mode": {
    "name": "ipython",
    "version": 3
   },
   "file_extension": ".py",
   "mimetype": "text/x-python",
   "name": "python",
   "nbconvert_exporter": "python",
   "pygments_lexer": "ipython3",
   "version": "3.7.6"
  },
  "toc": {
   "base_numbering": 1,
   "nav_menu": {},
   "number_sections": true,
   "sideBar": true,
   "skip_h1_title": false,
   "title_cell": "Table of Contents",
   "title_sidebar": "Contents",
   "toc_cell": false,
   "toc_position": {},
   "toc_section_display": true,
   "toc_window_display": false
  },
  "varInspector": {
   "cols": {
    "lenName": 16,
    "lenType": 16,
    "lenVar": 40
   },
   "kernels_config": {
    "python": {
     "delete_cmd_postfix": "",
     "delete_cmd_prefix": "del ",
     "library": "var_list.py",
     "varRefreshCmd": "print(var_dic_list())"
    },
    "r": {
     "delete_cmd_postfix": ") ",
     "delete_cmd_prefix": "rm(",
     "library": "var_list.r",
     "varRefreshCmd": "cat(var_dic_list()) "
    }
   },
   "types_to_exclude": [
    "module",
    "function",
    "builtin_function_or_method",
    "instance",
    "_Feature"
   ],
   "window_display": false
  }
 },
 "nbformat": 4,
 "nbformat_minor": 1
}
